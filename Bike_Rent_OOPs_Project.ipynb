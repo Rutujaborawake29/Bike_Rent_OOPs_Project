{
  "cells": [
    {
      "cell_type": "markdown",
      "metadata": {
        "id": "view-in-github",
        "colab_type": "text"
      },
      "source": [
        "<a href=\"https://colab.research.google.com/github/Rutujaborawake29/Bike_Rent_OOPs_Project/blob/main/Bike_Rent_OOPs_Project.ipynb\" target=\"_parent\"><img src=\"https://colab.research.google.com/assets/colab-badge.svg\" alt=\"Open In Colab\"/></a>"
      ]
    },
    {
      "cell_type": "markdown",
      "id": "303d18ca",
      "metadata": {
        "id": "303d18ca"
      },
      "source": [
        "## OOP project"
      ]
    },
    {
      "cell_type": "markdown",
      "id": "5cada111",
      "metadata": {
        "id": "5cada111"
      },
      "source": [
        "A Bike Rental System\n",
        "\n",
        "A full fledged bike rental system implemented in Python using object oriented programming.\n",
        "\n",
        "Customers can see available bikes on the shop.\n",
        "Rent bikes on daily basis Rs.100 per day.\n",
        "Rent bikes on weekly basis Rs.500 per week.\n",
        "Family Rental, a promotion that can include from 3 to 5 Rentals (of any type) with a discount of 30% of the total price.\n",
        "\n",
        "The bike rental shop can issue a bill when customer decides to return the bike,\n",
        "display available inventory ,take requests on daily and weekly basis by cross verifying stock.\n",
        "\n",
        "For simplicity we assume that\n",
        "Any customer requests rentals of only one type i.e daily or weekly and is free to choose the number of bikes he/she wants.\n",
        "Requested bikes should be less than available stock."
      ]
    },
    {
      "cell_type": "markdown",
      "id": "abae9162",
      "metadata": {
        "id": "abae9162"
      },
      "source": [
        "## Step 1\n",
        "\n",
        "Create a parent class `BikeRental`. Define `stock` as `class attribute` and assign value 100 to it.\n",
        "\n",
        "This class should not take any other attribute and when the object is created, it should display the message \"Welcome to rental bike shop.\"\n",
        "\n",
        "Define a method `displaystock` inside this class and when this method is called, it should display the total number of stock available."
      ]
    },
    {
      "cell_type": "code",
      "execution_count": null,
      "id": "8816e06c",
      "metadata": {
        "id": "8816e06c"
      },
      "outputs": [],
      "source": [
        "## your code goes here ##\n",
        "class BikeRental:\n",
        "  stock=100\n",
        "  def __init__(self):\n",
        "    print('Welcome to rental bike shop.')\n",
        "  def displaystock(self):\n",
        "    print('Total no of stocks available are =',self.stock)"
      ]
    },
    {
      "cell_type": "markdown",
      "id": "2ca3fb5c",
      "metadata": {
        "id": "2ca3fb5c"
      },
      "source": [
        "Create an object `bike_shop` of above class."
      ]
    },
    {
      "cell_type": "code",
      "execution_count": null,
      "id": "5184fc96",
      "metadata": {
        "colab": {
          "base_uri": "https://localhost:8080/"
        },
        "id": "5184fc96",
        "outputId": "2add32f7-da4d-4fb7-8d90-be4cab44b7f8"
      },
      "outputs": [
        {
          "output_type": "stream",
          "name": "stdout",
          "text": [
            "Welcome to rental bike shop.\n"
          ]
        }
      ],
      "source": [
        "## your code goes here ##\n",
        "bike_shop=BikeRental()"
      ]
    },
    {
      "cell_type": "markdown",
      "id": "73d006a8",
      "metadata": {
        "id": "73d006a8"
      },
      "source": [
        "Check if above created object can access the `class attribute` `stock`."
      ]
    },
    {
      "cell_type": "code",
      "execution_count": null,
      "id": "a96da206",
      "metadata": {
        "scrolled": true,
        "colab": {
          "base_uri": "https://localhost:8080/"
        },
        "id": "a96da206",
        "outputId": "c9482f86-760a-4933-cdc7-2beb98eb48d5"
      },
      "outputs": [
        {
          "output_type": "execute_result",
          "data": {
            "text/plain": [
              "100"
            ]
          },
          "metadata": {},
          "execution_count": 5
        }
      ],
      "source": [
        "## your code goes here ##\n",
        "bike_shop.stock"
      ]
    },
    {
      "cell_type": "markdown",
      "id": "a702f97d",
      "metadata": {
        "id": "a702f97d"
      },
      "source": [
        "Call the method `displaystock` using above created object `bike_shop`."
      ]
    },
    {
      "cell_type": "code",
      "execution_count": null,
      "id": "6a859671",
      "metadata": {
        "colab": {
          "base_uri": "https://localhost:8080/"
        },
        "id": "6a859671",
        "outputId": "4244c0ca-8d38-4764-a801-71b860bdbdb2"
      },
      "outputs": [
        {
          "output_type": "stream",
          "name": "stdout",
          "text": [
            "Total no of stocks available are = 100\n"
          ]
        }
      ],
      "source": [
        "bike_shop.displaystock()"
      ]
    },
    {
      "cell_type": "markdown",
      "id": "d3a33de1",
      "metadata": {
        "id": "d3a33de1"
      },
      "source": [
        "## Step 2\n",
        "\n",
        "Create a derived class `Customer` to inherit the methods from `BikeRental` class.\n",
        "Define `bill` as `class attribute`and set it's initial value as zero.\n",
        "\n",
        "This class has `number_of_bikes`, `rentalBasis` (daily or weekly) and `number_of_days_or_weeks` as attributes."
      ]
    },
    {
      "cell_type": "code",
      "execution_count": null,
      "id": "50196270",
      "metadata": {
        "id": "50196270"
      },
      "outputs": [],
      "source": [
        "## your code goes here ##derived class is also known as child class\n",
        "class Customer(BikeRental):\n",
        "  bill=0\n",
        "  def __init__(self,no_of_bikes, rentalBasis,no_of_days_or_weeks):\n",
        "    self.no_of_bikes=no_of_bikes\n",
        "    self.rentalBasis=rentalBasis\n",
        "    self.no_of_days_or_weeks=no_of_days_or_weeks\n"
      ]
    },
    {
      "cell_type": "markdown",
      "id": "98a400fe",
      "metadata": {
        "id": "98a400fe"
      },
      "source": [
        "Define a function `rentBike`, it should have following conditions:\n",
        "\n",
        "- if `number_of_bikes` is less than or equal to zero, it should display the message \"Number of bikes should be positive!\".\n",
        "\n",
        "- if `number_of_bikes` is greater than the `stock`, it should display the `number_of_bikes` available to rent.\n",
        "\n",
        "- Otherwise display the total `number_of_bikes` rented by the customer. Do not forget to update the value of `stock` i.e. subtract the `number_of_bikes` rented from stock and display the updated `stock`."
      ]
    },
    {
      "cell_type": "code",
      "execution_count": null,
      "id": "0f15d993",
      "metadata": {
        "id": "0f15d993"
      },
      "outputs": [],
      "source": [
        "## your code goes here ##\n",
        "class Customer(BikeRental):\n",
        "  bill=0\n",
        "  def __init__(self,no_of_bikes, rentalBasis,no_of_days_or_weeks):\n",
        "    self.no_of_bikes=no_of_bikes\n",
        "    self.rentalBasis=rentalBasis\n",
        "    self.no_of_days_or_weeks=no_of_days_or_weeks\n",
        "\n",
        "  def rentBike(self):\n",
        "      if self.no_of_bikes<=0:\n",
        "        print(\"Number of bikes should be positive!\")\n",
        "      elif self.no_of_bikes>bike_shop.stock:\n",
        "        print(\"number_of_bikes available to rent are \",self.no_of_bikes)\n",
        "      else:\n",
        "        print('No of bikes rented are',self.no_of_bikes)\n",
        "        bike_shop.stock-=self.no_of_bikes"
      ]
    },
    {
      "cell_type": "markdown",
      "id": "cb22ec0f",
      "metadata": {
        "id": "cb22ec0f"
      },
      "source": [
        "Define a function `returnBike` to return the total bill of customer.\n",
        "- Check if `rentalBasis` is ' daily ' or ' weekly ' and accordingly calculate the bill. Rent on ' daily ' basis is Rs. 100 per bike and for ' weekly ' basis it is Rs. 500 per bike.\n",
        "\n",
        "- If `number_of_bikes` rented by customer is between 3 to 5 (both values inclusive), 30% discount is offered on total bill. So it should display the message \"You are eligible for Family rental promotion of 30% discount\"."
      ]
    },
    {
      "cell_type": "code",
      "execution_count": null,
      "id": "48be1e59",
      "metadata": {
        "id": "48be1e59"
      },
      "outputs": [],
      "source": [
        "## your code goes here ##\n",
        "class Customer(BikeRental):\n",
        "  bill=0\n",
        "  def __init__(self,no_of_bikes, rentalBasis,no_of_days_or_weeks):\n",
        "    self.no_of_bikes=no_of_bikes\n",
        "    self.rentalBasis=rentalBasis\n",
        "    self.no_of_days_or_weeks=no_of_days_or_weeks\n",
        "\n",
        "  def rentBike(self):\n",
        "      if self.no_of_bikes<=0:\n",
        "        print(\"Number of bikes should be positive!\")\n",
        "      elif self.no_of_bikes>bike_shop.stock:\n",
        "        print(\"number_of_bikes available to rent are \",self.no_of_bikes)\n",
        "      else:\n",
        "        print('No of bikes rented are',self.no_of_bikes)\n",
        "        bike_shop.stock-=self.no_of_bikes\n",
        "\n",
        "  def returnBike(self):\n",
        "    daily_rate=100\n",
        "    weekly_rate=500\n",
        "    if self.rentalBasis=='daily':\n",
        "      print('Rent on daily basis is Rs. 100 per bike ')\n",
        "      if 3<=self.no_of_bikes<=5:\n",
        "        print(\"You are eligible for Family rental promotion of 30% discount\")\n",
        "    elif self.rentalBasis=='weekly':\n",
        "       print('Rent on weekly basis is Rs. 100 per bike')\n",
        "       if 3<=self.no_of_bikes<=5:\n",
        "        print(\"You are eligible for Family rental promotion of 30% discount\")"
      ]
    },
    {
      "cell_type": "code",
      "source": [],
      "metadata": {
        "id": "2H3xviIOtziq"
      },
      "id": "2H3xviIOtziq",
      "execution_count": null,
      "outputs": []
    },
    {
      "cell_type": "markdown",
      "id": "fa66397a",
      "metadata": {
        "id": "fa66397a"
      },
      "source": [
        "## Step 3\n",
        "\n",
        "Write complete `Customer` class using above defined functions `returnBike` and `rentBike` inside it as methods."
      ]
    },
    {
      "cell_type": "code",
      "execution_count": null,
      "id": "e1c7c3f5",
      "metadata": {
        "id": "e1c7c3f5"
      },
      "outputs": [],
      "source": [
        "## your code goes here ##\n",
        "class Customer(BikeRental):\n",
        "  bill=0\n",
        "  def __init__(self,no_of_bikes, rentalBasis,no_of_days_or_weeks):\n",
        "    self.no_of_bikes=no_of_bikes\n",
        "    self.rentalBasis=rentalBasis\n",
        "    self.no_of_days_or_weeks=no_of_days_or_weeks\n",
        "\n",
        "  def rentBike(self):\n",
        "      if self.no_of_bikes<=0:\n",
        "        print(\"Number of bikes should be positive!\")\n",
        "      elif self.no_of_bikes>bike_shop.stock:\n",
        "        print(\"number_of_bikes available to rent are \",self.no_of_bikes)\n",
        "      else:\n",
        "        print('No of bikes rented are',self.no_of_bikes)\n",
        "        bike_shop.stock-=self.no_of_bikes\n",
        "\n",
        "  def returnBike(self):\n",
        "    daily_rate=100\n",
        "    weekly_rate=500\n",
        "    if self.rentalBasis=='day':\n",
        "      print('Rent on daily basis is Rs. 100 per bike ')\n",
        "      if 3<=self.no_of_bikes<=5:\n",
        "        print(\"You are eligible for Family rental promotion of 30% discount\")\n",
        "    elif self.rentalBasis=='week':\n",
        "       print('Rent on weekly basis is Rs. 100 per bike')\n",
        "       if 3<=self.no_of_bikes<=5:\n",
        "        print(\"You are eligible for Family rental promotion of 30% discount\")"
      ]
    },
    {
      "cell_type": "markdown",
      "id": "dea7483f",
      "metadata": {
        "id": "dea7483f"
      },
      "source": [
        "## Step 4\n",
        "\n",
        "Check your `Bike Rental System` for test-case objects given below :\n",
        "\n",
        "For first four customers - check all the three attribute values and call `rentBike` and `returnBike` methods.\n",
        "\n",
        "- customer_1 = Customer(2,'day',5)\n",
        "\n",
        "- customer_2 = Customer(1,'week',3)\n",
        "\n",
        "- customer_3 = Customer(4,'day',3)  - Is family discount applicable here ?\n",
        "\n",
        "- customer_4 = Customer(3,'week',3) - Is family discount applicable here ?\n",
        "\n",
        "Call `rentBike` and `displaystock` methods for test-case objects given below :\n",
        "\n",
        "- customer_5 = Customer(120,'week',3)\n",
        "\n",
        "- customer_6 = Customer(0,'week',3)\n",
        "\n",
        "- customer_7 = Customer(-5,'week',3)\n",
        "\n",
        "- customer_8 = Customer(1,'day',3)"
      ]
    },
    {
      "cell_type": "code",
      "execution_count": null,
      "id": "40d0a7aa",
      "metadata": {
        "id": "40d0a7aa",
        "colab": {
          "base_uri": "https://localhost:8080/"
        },
        "outputId": "10b06f65-c89b-48be-f37a-58a0edf4c590"
      },
      "outputs": [
        {
          "output_type": "stream",
          "name": "stdout",
          "text": [
            "No of bikes rented are 2\n",
            "Rent on daily basis is Rs. 100 per bike \n"
          ]
        }
      ],
      "source": [
        "customer_1 = Customer(2,'day',5)\n",
        "customer_1.rentBike()\n",
        "customer_1.returnBike()"
      ]
    },
    {
      "cell_type": "code",
      "source": [
        "customer_2 = Customer(1,'week',3)\n",
        "customer_2.rentBike()\n",
        "customer_2.returnBike()"
      ],
      "metadata": {
        "colab": {
          "base_uri": "https://localhost:8080/"
        },
        "id": "xPCs7W8hug75",
        "outputId": "5750aba1-17a0-4119-c2ee-36127c300eb0"
      },
      "id": "xPCs7W8hug75",
      "execution_count": null,
      "outputs": [
        {
          "output_type": "stream",
          "name": "stdout",
          "text": [
            "No of bikes rented are 1\n",
            "Rent on weekly basis is Rs. 100 per bike\n"
          ]
        }
      ]
    },
    {
      "cell_type": "code",
      "source": [
        "customer_3 = Customer(4,'day',3)\n",
        "customer_3.rentBike()\n",
        "customer_3.returnBike()"
      ],
      "metadata": {
        "colab": {
          "base_uri": "https://localhost:8080/"
        },
        "id": "RIvYEez1xnPl",
        "outputId": "f5816487-a901-48c7-f24c-7b9889ec4dab"
      },
      "id": "RIvYEez1xnPl",
      "execution_count": null,
      "outputs": [
        {
          "output_type": "stream",
          "name": "stdout",
          "text": [
            "No of bikes rented are 4\n",
            "Rent on daily basis is Rs. 100 per bike \n",
            "You are eligible for Family rental promotion of 30% discount\n"
          ]
        }
      ]
    },
    {
      "cell_type": "code",
      "source": [
        "customer_4 = Customer(3,'week',3)\n",
        "customer_4.rentBike()\n",
        "customer_4.returnBike()"
      ],
      "metadata": {
        "colab": {
          "base_uri": "https://localhost:8080/"
        },
        "id": "icw-ljn5xntS",
        "outputId": "b5597348-7118-4bb6-ad90-0733a81cefc2"
      },
      "id": "icw-ljn5xntS",
      "execution_count": null,
      "outputs": [
        {
          "output_type": "stream",
          "name": "stdout",
          "text": [
            "No of bikes rented are 3\n",
            "Rent on weekly basis is Rs. 100 per bike\n",
            "You are eligible for Family rental promotion of 30% discount\n"
          ]
        }
      ]
    },
    {
      "cell_type": "code",
      "source": [
        "customer_5 = Customer(120,'week',3)\n",
        "customer_5.rentBike()\n",
        "customer_5.displaystock()"
      ],
      "metadata": {
        "colab": {
          "base_uri": "https://localhost:8080/"
        },
        "id": "u6-vpmPexn0n",
        "outputId": "203b40a7-0d57-447f-de7e-c87eb26ccc25"
      },
      "id": "u6-vpmPexn0n",
      "execution_count": null,
      "outputs": [
        {
          "output_type": "stream",
          "name": "stdout",
          "text": [
            "number_of_bikes available to rent are  120\n",
            "Total no of stocks available are = 100\n"
          ]
        }
      ]
    },
    {
      "cell_type": "code",
      "source": [
        "customer_6 = Customer(0,'week',3)\n",
        "customer_6.rentBike()\n",
        "customer_6.displaystock()"
      ],
      "metadata": {
        "colab": {
          "base_uri": "https://localhost:8080/"
        },
        "id": "c6B8T1Nqxn4O",
        "outputId": "a53ae33e-2709-4aa2-e8d4-8d8866038582"
      },
      "id": "c6B8T1Nqxn4O",
      "execution_count": null,
      "outputs": [
        {
          "output_type": "stream",
          "name": "stdout",
          "text": [
            "Number of bikes should be positive!\n",
            "Total no of stocks available are = 100\n"
          ]
        }
      ]
    },
    {
      "cell_type": "code",
      "source": [
        "customer_7 = Customer(-5,'week',3)\n",
        "customer_7.rentBike()\n",
        "customer_7.displaystock()\n"
      ],
      "metadata": {
        "colab": {
          "base_uri": "https://localhost:8080/"
        },
        "id": "PHpllc2vxn68",
        "outputId": "653bd9ea-21bf-4bc5-8d8f-9bc2a2cf708c"
      },
      "id": "PHpllc2vxn68",
      "execution_count": null,
      "outputs": [
        {
          "output_type": "stream",
          "name": "stdout",
          "text": [
            "Number of bikes should be positive!\n",
            "Total no of stocks available are = 100\n"
          ]
        }
      ]
    },
    {
      "cell_type": "code",
      "source": [
        "customer_8 = Customer(1,'day',3)\n",
        "customer_8.rentBike()\n",
        "customer_8.displaystock()"
      ],
      "metadata": {
        "colab": {
          "base_uri": "https://localhost:8080/"
        },
        "id": "weisSVOeyU1m",
        "outputId": "efe033ed-e3b5-404a-867c-8fa015dbcf86"
      },
      "id": "weisSVOeyU1m",
      "execution_count": null,
      "outputs": [
        {
          "output_type": "stream",
          "name": "stdout",
          "text": [
            "No of bikes rented are 1\n",
            "Total no of stocks available are = 100\n"
          ]
        }
      ]
    }
  ],
  "metadata": {
    "kernelspec": {
      "display_name": "Python 3",
      "language": "python",
      "name": "python3"
    },
    "language_info": {
      "codemirror_mode": {
        "name": "ipython",
        "version": 3
      },
      "file_extension": ".py",
      "mimetype": "text/x-python",
      "name": "python",
      "nbconvert_exporter": "python",
      "pygments_lexer": "ipython3",
      "version": "3.8.8"
    },
    "colab": {
      "provenance": [],
      "include_colab_link": true
    }
  },
  "nbformat": 4,
  "nbformat_minor": 5
}